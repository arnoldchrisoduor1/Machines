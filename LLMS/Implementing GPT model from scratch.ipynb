{
 "cells": [
  {
   "cell_type": "markdown",
   "id": "80810656-ee19-4217-98c1-57fc3bac3616",
   "metadata": {},
   "source": [
    "# Implementing GPT model from scratch to generate text."
   ]
  },
  {
   "cell_type": "code",
   "execution_count": 2,
   "id": "bb043c07-3235-4dad-b994-c6b942e689b4",
   "metadata": {},
   "outputs": [],
   "source": [
    "# Configuration of the GPT-2 model.\n",
    "\n",
    "GPT_CONFIG_124M = {\n",
    "    \"vocab_size\" : 50257,\n",
    "    \"context_length\" : 1024,\n",
    "    \"emb_dim\" : 768,\n",
    "    \"n_heads\" : 12,\n",
    "    \"n_layers\" : 12,\n",
    "    \"drop_rate\": 0.1,\n",
    "    \"qkv_bias\" : False\n",
    "}"
   ]
  },
  {
   "cell_type": "markdown",
   "id": "48ed396e-184d-41de-912a-e33758eda888",
   "metadata": {},
   "source": [
    "# 1. Building the Placeholder GPT model Architecture"
   ]
  },
  {
   "cell_type": "code",
   "execution_count": 3,
   "id": "ebc787ea-34f1-443e-82b2-ac9550f5d9c9",
   "metadata": {},
   "outputs": [
    {
     "name": "stderr",
     "output_type": "stream",
     "text": [
      "C:\\Users\\arnol\\anaconda3\\Lib\\site-packages\\torch\\utils\\_pytree.py:185: FutureWarning: optree is installed but the version is too old to support PyTorch Dynamo in C++ pytree. C++ pytree support is disabled. Please consider upgrading optree using `python3 -m pip install --upgrade 'optree>=0.13.0'`.\n",
      "  warnings.warn(\n"
     ]
    }
   ],
   "source": [
    "import torch\n",
    "import torch.nn as nn"
   ]
  },
  {
   "cell_type": "code",
   "execution_count": 13,
   "id": "103ad875-7f0e-4daf-9d60-ce47d74eafc8",
   "metadata": {},
   "outputs": [],
   "source": [
    "class DummyGPTModel(nn.Module):\n",
    "    def __init__(self, cfg):\n",
    "        super().__init__()\n",
    "        self.tok_emb = nn.Embedding(cfg[\"vocab_size\"], cfg[\"emb_dim\"])\n",
    "        self.pos_emb = nn.Embedding(cfg[\"context_length\"], cfg[\"emb_dim\"])\n",
    "        self.drop_emb = nn.Dropout(cfg[\"drop_rate\"])\n",
    "        self.trf_blocks = nn.Sequential(\n",
    "            *[DummyTransformerBlock(cfg)\n",
    "             for _ in range(cfg[\"n_layers\"])]\n",
    "        )\n",
    "        self.final_norm = DummyLayerNorm(cfg[\"emb_dim\"])\n",
    "        self.out_head = nn.Linear(\n",
    "            cfg[\"emb_dim\"], cfg[\"vocab_size\"], bias=False\n",
    "        )\n",
    "\n",
    "    def forward(self, in_idx):\n",
    "        batch_size, seq_len = in_idx.shape\n",
    "        tok_embeds = self.tok_emb(in_idx)\n",
    "        pos_embeds = self.pos_emb(\n",
    "            torch.arange(seq_len, device=in_idx.device)\n",
    "        )\n",
    "        x = tok_embeds + pos_embeds\n",
    "        x = self.drop_emb(x)\n",
    "        x = self.trf_blocks(x)\n",
    "        x = self.final_norm(x)\n",
    "        logits = self.out_head(x)\n",
    "        return logits"
   ]
  },
  {
   "cell_type": "code",
   "execution_count": 14,
   "id": "99a84df5-c243-4776-8cc1-c6196ccaf776",
   "metadata": {},
   "outputs": [],
   "source": [
    "class DummyTransformerBlock(nn.Module):\n",
    "    def __init__(self, cfg):\n",
    "        super().__init__()\n",
    "\n",
    "    def forward(self, x):\n",
    "        return x"
   ]
  },
  {
   "cell_type": "code",
   "execution_count": 7,
   "id": "1d2f112f-2bc1-4ce6-b3da-a8b05bc6f6c9",
   "metadata": {},
   "outputs": [],
   "source": [
    "class DummyLayerNorm(nn.Module):\n",
    "    def __init__(self, normalized_shape, eps=-5):\n",
    "        super().__init__()\n",
    "        \n",
    "    def forward(self, x):\n",
    "        return x"
   ]
  },
  {
   "cell_type": "markdown",
   "id": "9ba628e2-036a-4550-9b85-18fc0d66c780",
   "metadata": {},
   "source": [
    "## Preparing the input data and initilizing the GPT model"
   ]
  },
  {
   "cell_type": "code",
   "execution_count": 8,
   "id": "13e194dc-9305-4f45-8a23-6f3b1f081715",
   "metadata": {},
   "outputs": [],
   "source": [
    "import tiktoken"
   ]
  },
  {
   "cell_type": "code",
   "execution_count": 9,
   "id": "664a95fc-2546-4fc0-827a-489b3d6792df",
   "metadata": {},
   "outputs": [
    {
     "name": "stdout",
     "output_type": "stream",
     "text": [
      "tensor([[6109, 3626, 6100,  345],\n",
      "        [6109, 1110, 6622,  257]])\n"
     ]
    }
   ],
   "source": [
    "tokenizer = tiktoken.get_encoding(\"gpt2\")\n",
    "batch = []\n",
    "txt1 = \"Every effort moves you\"\n",
    "txt2 = \"Every day holds a\"\n",
    "\n",
    "batch.append(torch.tensor(tokenizer.encode(txt1)))\n",
    "batch.append(torch.tensor(tokenizer.encode(txt2)))\n",
    "batch = torch.stack(batch, dim=0)\n",
    "print(batch)"
   ]
  },
  {
   "cell_type": "markdown",
   "id": "2a63557e-5528-4858-9549-9e379625bd5a",
   "metadata": {},
   "source": [
    "## Initializing 124-million-parameter dummyModel instance"
   ]
  },
  {
   "cell_type": "code",
   "execution_count": 15,
   "id": "a0267353-cd14-4742-9513-f31b4b68e3c5",
   "metadata": {},
   "outputs": [
    {
     "name": "stdout",
     "output_type": "stream",
     "text": [
      "Output shape:  torch.Size([2, 4, 50257])\n",
      "tensor([[[-0.9289,  0.2748, -0.7557,  ..., -1.6070,  0.2702, -0.5888],\n",
      "         [-0.4476,  0.1726,  0.5354,  ..., -0.3932,  1.5285,  0.8557],\n",
      "         [ 0.5680,  1.6053, -0.2155,  ...,  1.1624,  0.1380,  0.7425],\n",
      "         [ 0.0447,  2.4787, -0.8843,  ...,  1.3219, -0.0864, -0.5856]],\n",
      "\n",
      "        [[-1.5474, -0.0542, -1.0571,  ..., -1.8061, -0.4494, -0.6747],\n",
      "         [-0.8422,  0.8243, -0.1098,  ..., -0.1434,  0.2079,  1.2046],\n",
      "         [ 0.1355,  1.1858, -0.1453,  ...,  0.0869, -0.1590,  0.1552],\n",
      "         [ 0.1666, -0.8138,  0.2307,  ...,  2.5035, -0.3055, -0.3083]]],\n",
      "       grad_fn=<UnsafeViewBackward0>)\n"
     ]
    }
   ],
   "source": [
    "torch.manual_seed(123)\n",
    "model = DummyGPTModel(GPT_CONFIG_124M)\n",
    "logits = model(batch)\n",
    "print(\"Output shape: \", logits.shape)\n",
    "print(logits)"
   ]
  },
  {
   "cell_type": "markdown",
   "id": "dc7628ac-5c2c-4076-85b0-93f8991745e9",
   "metadata": {},
   "source": [
    "## Normalizing Activations with Layer Normalization"
   ]
  },
  {
   "cell_type": "code",
   "execution_count": 21,
   "id": "fc1dc0fa-8980-47cb-958c-11cf302ba590",
   "metadata": {},
   "outputs": [],
   "source": [
    "class LayerNorm(nn.Module):\n",
    "    def __init__(self, emb_dim):\n",
    "        super().__init__()\n",
    "        self.eps = 1e-5\n",
    "        self.scale = nn.Parameter(torch.ones(emb_dim))\n",
    "        self.shift = nn.Parameter(torch.zeros(emb_dim))\n",
    "\n",
    "    def forward(self, x):\n",
    "        mean = x.mean(dim=-1, keepdim=True)\n",
    "        var = x.var(dim=-1, keepdim=True, unbiased=False)\n",
    "        norm_x = (x - mean) / torch.sqrt(var + self.eps)\n",
    "        return self.scale * norm_x + self.shift"
   ]
  },
  {
   "cell_type": "code",
   "execution_count": 22,
   "id": "eb935339-6bfb-4578-aa34-0077fbd11344",
   "metadata": {},
   "outputs": [
    {
     "name": "stdout",
     "output_type": "stream",
     "text": [
      "Mean:\n",
      " tensor([[1.1921e-08],\n",
      "        [0.0000e+00]], grad_fn=<MeanBackward1>)\n",
      "Variance:\n",
      " tensor([[1.0000],\n",
      "        [1.0000]], grad_fn=<VarBackward0>)\n"
     ]
    }
   ],
   "source": [
    "# Testing the normalization layer.\n",
    "\n",
    "batch_example = torch.randn(2, 5) \n",
    "ln = LayerNorm(emb_dim=5)\n",
    "out_ln = ln(batch_example)\n",
    "mean = out_ln.mean(dim=-1, keepdim=True)\n",
    "var = out_ln.var(dim=-1, unbiased=False, keepdim = True)\n",
    "print(\"Mean:\\n\", mean)\n",
    "print(\"Variance:\\n\", var)"
   ]
  },
  {
   "cell_type": "markdown",
   "id": "6d714c05-56f2-48bd-a32a-38c63768ffca",
   "metadata": {},
   "source": [
    "# 2 . GELU activation"
   ]
  },
  {
   "cell_type": "code",
   "execution_count": 24,
   "id": "a4ed3ba3-704e-4a66-8cbb-9a7e9acc624b",
   "metadata": {},
   "outputs": [],
   "source": [
    "class GELU(nn.Module):\n",
    "    def __init__(self):\n",
    "        super().__init__()\n",
    "\n",
    "    def forward(self, x):\n",
    "        return 0.5 * x * (1 + torch.tanh(\n",
    "            torch.sqrt(torch.tensor(2.0 / torch.pi)) *\n",
    "            (x + 0.044715 * torch.pow(x, 3))\n",
    "        ))"
   ]
  },
  {
   "cell_type": "code",
   "execution_count": 26,
   "id": "25dd65c2-8e90-4a69-bc7c-5fac57979a69",
   "metadata": {},
   "outputs": [],
   "source": [
    "class FeedForward(nn.Module):\n",
    " def __init__(self, cfg):\n",
    "     super().__init__()\n",
    "     self.layers = nn.Sequential(\n",
    "         nn.Linear(cfg[\"emb_dim\"], 4 * cfg[\"emb_dim\"]),\n",
    "         GELU(),\n",
    "         nn.Linear(4 * cfg[\"emb_dim\"], cfg[\"emb_dim\"]),\n",
    "     )\n",
    " def forward(self, x):\n",
    "     return self.layers(x)"
   ]
  },
  {
   "cell_type": "code",
   "execution_count": 27,
   "id": "cef50f2b-7e6f-4c57-ab42-79e3187efe1b",
   "metadata": {},
   "outputs": [
    {
     "name": "stdout",
     "output_type": "stream",
     "text": [
      "torch.Size([2, 3, 768])\n"
     ]
    }
   ],
   "source": [
    "# Initializing the new feedforward module with token embedding size of 768 and feed\n",
    "# ... it batch input of two samples 3 tokens each.\n",
    "\n",
    "ffn = FeedForward(GPT_CONFIG_124M)\n",
    "x = torch.rand(2, 3, 768)\n",
    "out = ffn(x)\n",
    "print(out.shape)"
   ]
  },
  {
   "cell_type": "markdown",
   "id": "a1e4df4a-0dee-41aa-8abb-f9ee71a85ed5",
   "metadata": {},
   "source": [
    "# 3. Creating the Transformer block of the GPT"
   ]
  },
  {
   "cell_type": "code",
   "execution_count": 28,
   "id": "3bf6c301-abf4-428c-a8c0-70d00ca78ef8",
   "metadata": {},
   "outputs": [],
   "source": [
    "class MultiHeadAttention(nn.Module):\n",
    " def __init__(self, d_in, d_out,\n",
    "     context_length, dropout, num_heads, qkv_bias=False):\n",
    "     super().__init__()\n",
    "     assert (d_out % num_heads == 0), \\\n",
    "     \"d_out must be divisible by num_heads\"\n",
    "     self.d_out = d_out\n",
    "     self.num_heads = num_heads\n",
    "     self.head_dim = d_out // num_heads\n",
    "     self.W_query = nn.Linear(d_in, d_out, bias=qkv_bias)\n",
    "     self.W_key = nn.Linear(d_in, d_out, bias=qkv_bias)\n",
    "     self.W_value = nn.Linear(d_in, d_out, bias=qkv_bias)\n",
    "     self.out_proj = nn.Linear(d_out, d_out)\n",
    "     self.dropout = nn.Dropout(dropout)\n",
    "     self.register_buffer(\n",
    "     \"mask\",\n",
    "     torch.triu(torch.ones(context_length, context_length),\n",
    "     diagonal=1)\n",
    "     )\n",
    " def forward(self, x):\n",
    "     b, num_tokens, d_in = x.shape\n",
    "     keys = self.W_key(x)\n",
    "     queries = self.W_query(x)\n",
    "     values = self.W_value(x)\n",
    "     keys = keys.view(b, num_tokens, self.num_heads, self.head_dim)\n",
    "     values = values.view(b, num_tokens, self.num_heads, self.head_dim)\n",
    "     queries = queries.view(\n",
    "     b, num_tokens, self.num_heads, self.head_dim\n",
    "     )\n",
    "     keys = keys.transpose(1, 2)\n",
    "     queries = queries.transpose(1, 2)\n",
    "     values = values.transpose(1, 2)\n",
    "     attn_scores = queries @ keys.transpose(2, 3)\n",
    "     mask_bool = self.mask.bool()[:num_tokens, :num_tokens]\n",
    "    \n",
    "     attn_scores.masked_fill_(mask_bool, -torch.inf)\n",
    "     attn_weights = torch.softmax(\n",
    "     attn_scores / keys.shape[-1]**0.5, dim=-1)\n",
    "     attn_weights = self.dropout(attn_weights)\n",
    "     context_vec = (attn_weights @ values).transpose(1, 2)\n",
    "    \n",
    "     context_vec = context_vec.contiguous().view(\n",
    "     b, num_tokens, self.d_out\n",
    "     )\n",
    "     context_vec = self.out_proj(context_vec)\n",
    "     return context_vec"
   ]
  },
  {
   "cell_type": "code",
   "execution_count": 29,
   "id": "ea7f548f-ec73-439d-a81b-b3cb21e1be6a",
   "metadata": {},
   "outputs": [],
   "source": [
    "class TransformerBlock(nn.Module):\n",
    "    def __init__(self, cfg):\n",
    "         super().__init__()\n",
    "         self.att = MultiHeadAttention(\n",
    "         d_in=cfg[\"emb_dim\"],\n",
    "         d_out=cfg[\"emb_dim\"],\n",
    "         context_length=cfg[\"context_length\"],\n",
    "         num_heads=cfg[\"n_heads\"],\n",
    "         dropout=cfg[\"drop_rate\"],\n",
    "         qkv_bias=cfg[\"qkv_bias\"])\n",
    "         self.ff = FeedForward(cfg)\n",
    "         self.norm1 = LayerNorm(cfg[\"emb_dim\"])\n",
    "         self.norm2 = LayerNorm(cfg[\"emb_dim\"])\n",
    "         self.drop_shortcut = nn.Dropout(cfg[\"drop_rate\"])\n",
    "\n",
    "    def forward(self, x):\n",
    "         shortcut = x\n",
    "         x = self.norm1(x)\n",
    "         x = self.att(x)\n",
    "         x = self.drop_shortcut(x)\n",
    "         x = x + shortcut\n",
    "         shortcut = x\n",
    "         x = self.norm2(x)\n",
    "         x = self.ff(x)\n",
    "         x = self.drop_shortcut(x)\n",
    "         x = x + shortcut\n",
    "         return x"
   ]
  },
  {
   "cell_type": "code",
   "execution_count": 31,
   "id": "67b066c6-fc4f-4e55-b8a0-064b16fce3f5",
   "metadata": {},
   "outputs": [
    {
     "name": "stdout",
     "output_type": "stream",
     "text": [
      "Input shape:  torch.Size([2, 4, 768])\n",
      "Output shape: torch.Size([2, 4, 768])\n"
     ]
    }
   ],
   "source": [
    "# Lets instantiate a transformer block and feed it some sample data.\n",
    "\n",
    "torch.manual_seed(123)\n",
    "x = torch.rand(2, 4, 768)\n",
    "block = TransformerBlock(GPT_CONFIG_124M)\n",
    "output = block(x)\n",
    "\n",
    "print(\"Input shape: \", x.shape)\n",
    "print(\"Output shape:\", output.shape)"
   ]
  },
  {
   "cell_type": "markdown",
   "id": "4ca47436-046b-44b5-8ae6-79468bea3c46",
   "metadata": {},
   "source": [
    "# 4. Coding the GPT model"
   ]
  },
  {
   "cell_type": "code",
   "execution_count": 32,
   "id": "d970f91d-9ec4-4911-811f-dbb963288b88",
   "metadata": {},
   "outputs": [],
   "source": [
    "class GPTModel(nn.Module):\n",
    " def __init__(self, cfg):\n",
    "     super().__init__()\n",
    "     self.tok_emb = nn.Embedding(cfg[\"vocab_size\"], cfg[\"emb_dim\"])\n",
    "     self.pos_emb = nn.Embedding(cfg[\"context_length\"], cfg[\"emb_dim\"])\n",
    "     self.drop_emb = nn.Dropout(cfg[\"drop_rate\"])\n",
    "    \n",
    "     self.trf_blocks = nn.Sequential(\n",
    "     *[TransformerBlock(cfg) for _ in range(cfg[\"n_layers\"])])\n",
    "    \n",
    "     self.final_norm = LayerNorm(cfg[\"emb_dim\"])\n",
    "     self.out_head = nn.Linear(\n",
    "         cfg[\"emb_dim\"], cfg[\"vocab_size\"], bias=False\n",
    "     )\n",
    "     \n",
    " def forward(self, in_idx):\n",
    "     batch_size, seq_len = in_idx.shape\n",
    "     tok_embeds = self.tok_emb(in_idx)\n",
    "    \n",
    "     pos_embeds = self.pos_emb(\n",
    "     torch.arange(seq_len, device=in_idx.device)\n",
    "     )\n",
    "     x = tok_embeds + pos_embeds\n",
    "     x = self.drop_emb(x)\n",
    "     x = self.trf_blocks(x)\n",
    "     x = self.final_norm(x)\n",
    "     logits = self.out_head(x)\n",
    "     return logits"
   ]
  },
  {
   "cell_type": "code",
   "execution_count": 33,
   "id": "89c72b73-769d-4b3d-aef8-883d71a852d4",
   "metadata": {},
   "outputs": [
    {
     "name": "stdout",
     "output_type": "stream",
     "text": [
      "Input batch:\n",
      " tensor([[6109, 3626, 6100,  345],\n",
      "        [6109, 1110, 6622,  257]])\n",
      "\n",
      "Output shape:  torch.Size([2, 4, 50257])\n",
      "tensor([[[ 0.1381,  0.0077, -0.1963,  ..., -0.0222, -0.1060,  0.1717],\n",
      "         [ 0.3865, -0.8408, -0.6564,  ..., -0.5163,  0.2369, -0.3357],\n",
      "         [ 0.6989, -0.1829, -0.1631,  ...,  0.1472, -0.6504, -0.0056],\n",
      "         [-0.4290,  0.1669, -0.1258,  ...,  1.1579,  0.5303, -0.5549]],\n",
      "\n",
      "        [[ 0.1094, -0.2894, -0.1467,  ..., -0.0557,  0.2911, -0.2824],\n",
      "         [ 0.0882, -0.3552, -0.3527,  ...,  1.2930,  0.0053,  0.1898],\n",
      "         [ 0.6091,  0.4702, -0.4094,  ...,  0.7688,  0.3787, -0.1974],\n",
      "         [-0.0612, -0.0737,  0.4751,  ...,  1.2463, -0.3834,  0.0609]]],\n",
      "       grad_fn=<UnsafeViewBackward0>)\n"
     ]
    }
   ],
   "source": [
    "# Initializing the model instance.\n",
    "\n",
    "torch.manual_seed(123)\n",
    "model = GPTModel(GPT_CONFIG_124M)\n",
    "\n",
    "out = model(batch)\n",
    "print(\"Input batch:\\n\", batch)\n",
    "print(\"\\nOutput shape: \", out.shape)\n",
    "print(out)"
   ]
  },
  {
   "cell_type": "code",
   "execution_count": 36,
   "id": "b4154944-ad53-41d5-80a0-1bc43e946086",
   "metadata": {},
   "outputs": [
    {
     "name": "stdout",
     "output_type": "stream",
     "text": [
      "Total number of parameters:  163,009,536\n"
     ]
    }
   ],
   "source": [
    "# checking the total nnumber of model parameters.\n",
    "\n",
    "total_params = sum(p.numel() for p in model.parameters())\n",
    "print(f\"Total number of parameters:  {total_params:,}\")"
   ]
  },
  {
   "cell_type": "code",
   "execution_count": 37,
   "id": "4db8935e-1f6e-4d15-9c93-e8bdf3f67748",
   "metadata": {},
   "outputs": [
    {
     "name": "stdout",
     "output_type": "stream",
     "text": [
      "Total size of the model: 621.83 MB\n"
     ]
    }
   ],
   "source": [
    "# Calculating the memory requirements.\n",
    "\n",
    "total_size_bytes = total_params * 4\n",
    "total_size_mb = total_size_bytes / (1024 * 1024)\n",
    "print(f\"Total size of the model: {total_size_mb:.2f} MB\")"
   ]
  },
  {
   "cell_type": "markdown",
   "id": "07b8b3a6-5a75-476a-83d0-049979bf47a4",
   "metadata": {},
   "source": [
    "## Generating Texts"
   ]
  },
  {
   "cell_type": "code",
   "execution_count": 41,
   "id": "4782c7ef-aa45-45db-9fbf-6f533d7171c7",
   "metadata": {},
   "outputs": [],
   "source": [
    "def generate_text_simple(model, idx,max_new_tokens, context_size):\n",
    " for _ in range(max_new_tokens):\n",
    "     idx_cond = idx[:, -context_size:]\n",
    "     with torch.no_grad():\n",
    "         logits = model(idx_cond)\n",
    "    \n",
    "     logits = logits[:, -1, :]\n",
    "     probas = torch.softmax(logits, dim=-1)\n",
    "     idx_next = torch.argmax(probas, dim=-1, keepdim=True)\n",
    "     idx = torch.cat((idx, idx_next), dim=1)\n",
    " return idx"
   ]
  },
  {
   "cell_type": "code",
   "execution_count": 42,
   "id": "dff24471-408b-4a59-96fa-874df8db8fa8",
   "metadata": {},
   "outputs": [
    {
     "name": "stdout",
     "output_type": "stream",
     "text": [
      "encoded: [15496, 11, 314, 716]\n",
      "encoded_tensor.shape: torch.Size([1, 4])\n"
     ]
    }
   ],
   "source": [
    "# Testing out the text generation function.\n",
    "\n",
    "start_context = \"Hello, I am\"\n",
    "encoded = tokenizer.encode(start_context)\n",
    "print(\"encoded:\", encoded)\n",
    "encoded_tensor = torch.tensor(encoded).unsqueeze(0)\n",
    "print(\"encoded_tensor.shape:\", encoded_tensor.shape)"
   ]
  },
  {
   "cell_type": "code",
   "execution_count": 43,
   "id": "496ed70c-cc8c-4275-ac77-a1a2cb84d885",
   "metadata": {},
   "outputs": [
    {
     "name": "stdout",
     "output_type": "stream",
     "text": [
      "Output: tensor([[15496,    11,   314,   716, 27018, 24086, 47843, 30961, 42348,  7267]])\n",
      "Output length: 10\n"
     ]
    }
   ],
   "source": [
    "model.eval()\n",
    "out = generate_text_simple(\n",
    "    model=model,\n",
    "    idx=encoded_tensor,\n",
    "    max_new_tokens=6,\n",
    "    context_size=GPT_CONFIG_124M[\"context_length\"]\n",
    ")\n",
    "\n",
    "print(\"Output:\", out)\n",
    "print(\"Output length:\", len(out[0]))"
   ]
  },
  {
   "cell_type": "code",
   "execution_count": 44,
   "id": "34d9fc70-c4bc-40ef-a7df-0037a7ff7e00",
   "metadata": {},
   "outputs": [
    {
     "name": "stdout",
     "output_type": "stream",
     "text": [
      "Hello, I am Featureiman Byeswickattribute argue\n"
     ]
    }
   ],
   "source": [
    "decoded_text = tokenizer.decode(out.squeeze(0).tolist())\n",
    "print(decoded_text)"
   ]
  },
  {
   "cell_type": "code",
   "execution_count": null,
   "id": "2044e93e-6e53-4077-a490-c7c1b2afe7c9",
   "metadata": {},
   "outputs": [],
   "source": []
  }
 ],
 "metadata": {
  "kernelspec": {
   "display_name": "Python 3 (ipykernel)",
   "language": "python",
   "name": "python3"
  },
  "language_info": {
   "codemirror_mode": {
    "name": "ipython",
    "version": 3
   },
   "file_extension": ".py",
   "mimetype": "text/x-python",
   "name": "python",
   "nbconvert_exporter": "python",
   "pygments_lexer": "ipython3",
   "version": "3.11.7"
  }
 },
 "nbformat": 4,
 "nbformat_minor": 5
}
