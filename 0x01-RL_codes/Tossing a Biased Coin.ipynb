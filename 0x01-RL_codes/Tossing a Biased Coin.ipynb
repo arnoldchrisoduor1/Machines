{
 "cells": [
  {
   "cell_type": "markdown",
   "id": "68b3b3d0-f398-4803-b5e4-07dc406d62d4",
   "metadata": {},
   "source": [
    "# Tossing a Biased Coin"
   ]
  },
  {
   "cell_type": "code",
   "execution_count": 1,
   "id": "850a8689-062d-45a6-8884-7a0db6c9ee0c",
   "metadata": {},
   "outputs": [],
   "source": [
    "import numpy as np\n",
    "from numpy.random import default_rng"
   ]
  },
  {
   "cell_type": "code",
   "execution_count": 2,
   "id": "aac6049d-12fe-4128-bb4b-170e049f298b",
   "metadata": {},
   "outputs": [],
   "source": [
    "rng = default_rng(seed=100)"
   ]
  },
  {
   "cell_type": "code",
   "execution_count": 3,
   "id": "1a1bf15b-7e3c-4d38-9994-319277c653ea",
   "metadata": {},
   "outputs": [],
   "source": [
    "ssp = [1, 0]\n",
    "asp = [1, 0]"
   ]
  },
  {
   "cell_type": "code",
   "execution_count": 4,
   "id": "d2a58e41-d71e-4697-be84-67127c937e47",
   "metadata": {},
   "outputs": [],
   "source": [
    "def epoch():\n",
    "    tr = 0\n",
    "    for _ in range(100):\n",
    "        a = rng.choice(asp)\n",
    "        s = rng.choice(ssp)\n",
    "        if a == s:\n",
    "            tr += 1\n",
    "    return tr"
   ]
  },
  {
   "cell_type": "code",
   "execution_count": 5,
   "id": "73366b54-a8f3-4327-bb1c-01dea1ee1df2",
   "metadata": {},
   "outputs": [
    {
     "data": {
      "text/plain": [
       "array([56, 47, 48, 55, 55, 51, 54, 43, 55, 40])"
      ]
     },
     "execution_count": 5,
     "metadata": {},
     "output_type": "execute_result"
    }
   ],
   "source": [
    "rl = np.array([epoch() for _ in range(250)])\n",
    "rl[:10]"
   ]
  },
  {
   "cell_type": "code",
   "execution_count": 6,
   "id": "e55e027c-b04c-4701-aba3-c4ea7af1ba0d",
   "metadata": {},
   "outputs": [
    {
     "data": {
      "text/plain": [
       "49.968"
      ]
     },
     "execution_count": 6,
     "metadata": {},
     "output_type": "execute_result"
    }
   ],
   "source": [
    "rl.mean()"
   ]
  },
  {
   "cell_type": "code",
   "execution_count": null,
   "id": "c4978cb3-4a6d-4081-a08c-7f63b31668e1",
   "metadata": {},
   "outputs": [],
   "source": []
  }
 ],
 "metadata": {
  "kernelspec": {
   "display_name": "Python 3 (ipykernel)",
   "language": "python",
   "name": "python3"
  },
  "language_info": {
   "codemirror_mode": {
    "name": "ipython",
    "version": 3
   },
   "file_extension": ".py",
   "mimetype": "text/x-python",
   "name": "python",
   "nbconvert_exporter": "python",
   "pygments_lexer": "ipython3",
   "version": "3.11.7"
  }
 },
 "nbformat": 4,
 "nbformat_minor": 5
}
